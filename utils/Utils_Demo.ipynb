{
  "nbformat": 4,
  "nbformat_minor": 5,
  "metadata": {
    "kernelspec": {
      "display_name": "Python 3 (ipykernel)",
      "language": "python",
      "name": "python3"
    },
    "language_info": {
      "codemirror_mode": {
        "name": "ipython",
        "version": 3
      },
      "file_extension": ".py",
      "mimetype": "text/x-python",
      "name": "python",
      "nbconvert_exporter": "python",
      "pygments_lexer": "ipython3",
      "version": "3.8.11"
    },
    "colab": {
      "name": "Utils Demo.ipynb",
      "provenance": []
    }
  },
  "cells": [
    {
      "cell_type": "code",
      "metadata": {
        "id": "549c48da"
      },
      "source": [
        "import os\n",
        "\n",
        "import numpy as np\n",
        "\n",
        "from utils import cross_validation\n",
        "from utils import test_split"
      ],
      "id": "549c48da",
      "execution_count": null,
      "outputs": []
    },
    {
      "cell_type": "code",
      "metadata": {
        "id": "9a95593a"
      },
      "source": [
        "PARAMS = {\n",
        "    'BASE_DATA_DIR': 'dzanga-bai-20210816T230919Z-001/dzanga-bai',\n",
        "    'OUTPUT_PATH': 'dzanga-bai-20210816T230919Z-001/foo',\n",
        "    'SEED': 200  # Only used for cross-validation\n",
        "}"
      ],
      "id": "9a95593a",
      "execution_count": null,
      "outputs": []
    },
    {
      "cell_type": "code",
      "metadata": {
        "id": "ffca413f"
      },
      "source": [
        "test_split.TestSplitter(PARAMS).get_no_leakage_trainval_test_splits()"
      ],
      "id": "ffca413f",
      "execution_count": null,
      "outputs": []
    },
    {
      "cell_type": "code",
      "metadata": {
        "id": "0b115281"
      },
      "source": [
        "train_val_indices_filename = os.path.join(\n",
        "    PARAMS['OUTPUT_PATH'], 'train_val_indices.csv')\n",
        "with open(train_val_indices_filename, 'rt') as f:\n",
        "    train_val_indices = np.array([int(index) for index in f.readlines()])\n",
        "\n",
        "cross_validation.CrossValidator(\n",
        "    PARAMS).get_no_leakage_crossval_splits(train_val_indices)"
      ],
      "id": "0b115281",
      "execution_count": null,
      "outputs": []
    },
    {
      "cell_type": "code",
      "metadata": {
        "id": "266c72bf"
      },
      "source": [
        ""
      ],
      "id": "266c72bf",
      "execution_count": null,
      "outputs": []
    }
  ]
}